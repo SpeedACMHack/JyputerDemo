{
 "cells": [
  {
   "cell_type": "markdown",
   "metadata": {},
   "source": [
    "# Welcome to Jupyter"
   ]
  },
  {
   "cell_type": "markdown",
   "metadata": {},
   "source": [
    "Welcome to Jupyter. Jupyter is designed to be a tool for turning your code and illegible comments into a reasonable format for scientific papers. Jupyter uses a system of what we call 'cells' to organize your information. There are two primary kinds of cells, this cell, the one that you are reading, is called a markdown cell."
   ]
  },
  {
   "cell_type": "code",
   "execution_count": 9,
   "metadata": {
    "collapsed": false
   },
   "outputs": [
    {
     "name": "stdout",
     "output_type": "stream",
     "text": [
      "This is an example of a code cell printing Text\n"
     ]
    }
   ],
   "source": [
    "print(\"This is an example of a code cell printing Text\")"
   ]
  },
  {
   "cell_type": "markdown",
   "metadata": {},
   "source": [
    "Throughout this document I will be attempting to explain some of the features of Jupyter, along with some of the cool ways it can be used and demontsrated. Below I will demonstrate some of the ways in which you can use simple statements in a few separate code cells."
   ]
  },
  {
   "cell_type": "code",
   "execution_count": 10,
   "metadata": {
    "collapsed": true
   },
   "outputs": [],
   "source": [
    "x = \"blue\""
   ]
  },
  {
   "cell_type": "markdown",
   "metadata": {},
   "source": [
    "The code above defines a variable x. The cell below prints x. If you run the cell below without first running the cell above you will get an error"
   ]
  },
  {
   "cell_type": "code",
   "execution_count": 11,
   "metadata": {
    "collapsed": false
   },
   "outputs": [
    {
     "name": "stdout",
     "output_type": "stream",
     "text": [
      "blue\n"
     ]
    }
   ],
   "source": [
    "print(x)"
   ]
  },
  {
   "cell_type": "markdown",
   "metadata": {},
   "source": [
    "A cell will not change its output until you run it again, and you can have multiple cells that define the same variables. This allows for interesting methods of demonstrating the effects of functions when fed different inputs without having to create another cell for how it handles every input. For Example the cell below will redefine x. If you run the 2 cells above and not the cell below, the print(x) statement will always return blue, however if you run the cell below the print(x) statement above will return red until you redefine x again."
   ]
  },
  {
   "cell_type": "code",
   "execution_count": 12,
   "metadata": {
    "collapsed": true
   },
   "outputs": [],
   "source": [
    "x = \"red\""
   ]
  },
  {
   "cell_type": "markdown",
   "metadata": {},
   "source": [
    "The uses of Jupyter are rather extensive and may be significantly more complex without issue. For example in the next cell I will define a function."
   ]
  },
  {
   "cell_type": "code",
   "execution_count": 13,
   "metadata": {
    "collapsed": true
   },
   "outputs": [],
   "source": [
    "def add(x,y):\n",
    "    return x+y\n"
   ]
  },
  {
   "cell_type": "markdown",
   "metadata": {},
   "source": [
    "The next cell will call the function and display its output."
   ]
  },
  {
   "cell_type": "code",
   "execution_count": 14,
   "metadata": {
    "collapsed": false
   },
   "outputs": [
    {
     "name": "stdout",
     "output_type": "stream",
     "text": [
      "7\n"
     ]
    }
   ],
   "source": [
    "out = add(2,5)\n",
    "print(out)"
   ]
  },
  {
   "cell_type": "markdown",
   "metadata": {},
   "source": [
    "If you look at all the code above, it is python3. This is because I generated this notebook to use a python3 kernel. There are a large number of other kernels available and you may work in any number of them in a single notebook using commands at the beginning of a code cell. I do not currently have any alternate kernels installed, so I cannot demonstrate kernel switching."
   ]
  }
 ],
 "metadata": {
  "kernelspec": {
   "display_name": "Python 3",
   "language": "python",
   "name": "python3"
  },
  "language_info": {
   "codemirror_mode": {
    "name": "ipython",
    "version": 3
   },
   "file_extension": ".py",
   "mimetype": "text/x-python",
   "name": "python",
   "nbconvert_exporter": "python",
   "pygments_lexer": "ipython3",
   "version": "3.5.0"
  }
 },
 "nbformat": 4,
 "nbformat_minor": 0
}
